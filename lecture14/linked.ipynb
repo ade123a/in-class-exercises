{
 "cells": [
  {
   "cell_type": "code",
   "execution_count": null,
   "metadata": {},
   "outputs": [],
   "source": [
    "# List node - class definition\n",
    "\n",
    "class ListNode:\n",
    "    def __init__(self, value):\n",
    "        self._value = value\n",
    "        self._next = None\n",
    "        \n",
    "\n",
    "    def getData(self):\n",
    "        return self._value\n",
    "\n",
    "    def setData(self, value):\n",
    "        self._value = value\n",
    "\n",
    "    def getNext(self):\n",
    "        return self._next\n",
    "\n",
    "    def setNext(self, next):\n",
    "        self._next = next\n",
    "\n",
    "    def toString(self):\n",
    "        return str(self._value)"
   ]
  },
  {
   "cell_type": "code",
   "execution_count": 3,
   "metadata": {},
   "outputs": [
    {
     "name": "stdout",
     "output_type": "stream",
     "text": [
      "3\n"
     ]
    }
   ],
   "source": [
    "# List node - creation and deletion\n",
    "n = ListNode(3)\n",
    "print(n.toString()) # 3\n",
    "del n"
   ]
  },
  {
   "cell_type": "code",
   "execution_count": null,
   "metadata": {},
   "outputs": [],
   "source": [
    "# Doubly-linked list node\n",
    "\n",
    "class DoublyListNode:\n",
    "    def __init__(self, value):\n",
    "        self._value = value\n",
    "        self._next = None\n",
    "        self._prev = None\n",
    "\n",
    "    def getData(self):\n",
    "        return self._value\n",
    "\n",
    "    def setData(self, value):\n",
    "        self._value = value\n",
    "\n",
    "    def getNext(self):\n",
    "        return self._next\n",
    "\n",
    "    def setNext(self, next):\n",
    "        self._next = next\n",
    "\n",
    "    def toString(self):\n",
    "        return str(self._value)"
   ]
  }
 ],
 "metadata": {
  "kernelspec": {
   "display_name": "Python 3",
   "language": "python",
   "name": "python3"
  },
  "language_info": {
   "codemirror_mode": {
    "name": "ipython",
    "version": 3
   },
   "file_extension": ".py",
   "mimetype": "text/x-python",
   "name": "python",
   "nbconvert_exporter": "python",
   "pygments_lexer": "ipython3",
   "version": "3.12.9"
  },
  "orig_nbformat": 4
 },
 "nbformat": 4,
 "nbformat_minor": 2
}
